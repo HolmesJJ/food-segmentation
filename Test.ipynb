{
 "cells": [
  {
   "cell_type": "code",
   "execution_count": null,
   "id": "bb2f824d",
   "metadata": {},
   "outputs": [],
   "source": [
    "import cv2\n",
    "import glob\n",
    "import random\n",
    "import numpy as np\n",
    "import pandas as pd\n",
    "import albumentations as A\n",
    "import matplotlib.pyplot as plt\n",
    "import segmentation_models as sm\n",
    "\n",
    "from dataset import Dataset\n",
    "from dataset import visualize\n",
    "from dataset import Dataloader\n",
    "from dataset import denormalize\n",
    "from keras.models import load_model\n",
    "from segmentation_models.losses import DiceLoss\n",
    "from segmentation_models.losses import CategoricalFocalLoss\n",
    "from segmentation_models.metrics import IOUScore\n",
    "from segmentation_models.metrics import FScore"
   ]
  },
  {
   "cell_type": "code",
   "execution_count": null,
   "id": "9763ebe7",
   "metadata": {},
   "outputs": [],
   "source": [
    "CATEGORY_PATH = \"dataset/category_id.txt\"\n",
    "TEST_PATH = \"dataset/test/\"\n",
    "TEST_DIRS = glob.glob(\"dataset/test/*\")\n",
    "\n",
    "MODEL = \"fpn-seresnet152\"\n",
    "CHECKPOINT_PATH = \"checkpoints/\" + MODEL + \".h5\"\n",
    "MODEL_PATH = \"models/\" + MODEL + \".h5\"\n",
    "\n",
    "THRESHOLD = 0.9"
   ]
  },
  {
   "cell_type": "code",
   "execution_count": null,
   "id": "1a1d6aa6",
   "metadata": {},
   "outputs": [],
   "source": [
    "def get_classes():\n",
    "    categories = pd.read_csv(CATEGORY_PATH, sep=\"\\t\", names=[\"id\", \"name\"])\n",
    "    # CamVid Dataset\n",
    "    # ids = categories[\"id\"].to_list()[:-1]\n",
    "    # classes = categories[\"name\"].to_list()[:-1]\n",
    "    # FoodSeg103 Dataset\n",
    "    ids = categories[\"id\"].to_list()[1:]\n",
    "    classes = categories[\"name\"].to_list()[1:]\n",
    "    classes = [cls.strip() for cls in classes]\n",
    "    return ids, classes"
   ]
  },
  {
   "cell_type": "code",
   "execution_count": null,
   "id": "4b8083ed",
   "metadata": {},
   "outputs": [],
   "source": [
    "def get_val_test_augmentation():\n",
    "    \"\"\"Add paddings to make image shape divisible by 32\"\"\"\n",
    "    test_transform = [A.PadIfNeeded(384, 480)]\n",
    "    return A.Compose(test_transform)"
   ]
  },
  {
   "cell_type": "code",
   "execution_count": null,
   "id": "a600bd1f",
   "metadata": {},
   "outputs": [],
   "source": [
    "def get_preprocessing(preprocessing_fn):\n",
    "    _transform = [A.Lambda(image=preprocessing_fn)]\n",
    "    return A.Compose(_transform)"
   ]
  },
  {
   "cell_type": "code",
   "execution_count": null,
   "id": "5c77a17b",
   "metadata": {},
   "outputs": [],
   "source": [
    "preprocess_input = sm.get_preprocessing(MODEL.split(\"-\")[1])"
   ]
  },
  {
   "cell_type": "code",
   "execution_count": null,
   "id": "4390f235",
   "metadata": {},
   "outputs": [],
   "source": [
    "ids, classes = get_classes()"
   ]
  },
  {
   "cell_type": "code",
   "execution_count": null,
   "id": "46161234",
   "metadata": {},
   "outputs": [],
   "source": [
    "test_dataset = Dataset(TEST_PATH + \"img\", TEST_PATH + \"mask\", class_values=ids,\n",
    "                       augmentation=get_val_test_augmentation(),\n",
    "                       preprocessing=get_preprocessing(preprocess_input))"
   ]
  },
  {
   "cell_type": "code",
   "execution_count": null,
   "id": "ccf14ad9",
   "metadata": {},
   "outputs": [],
   "source": [
    "test_dataloader = Dataloader(test_dataset, batch_size=1, shuffle=False)\n",
    "print(test_dataloader[0][0].shape)\n",
    "print(test_dataloader[0][1].shape)"
   ]
  },
  {
   "cell_type": "code",
   "execution_count": null,
   "id": "0d1d9696",
   "metadata": {},
   "outputs": [],
   "source": [
    "dice_loss = DiceLoss(class_weights=np.append(np.ones(len(get_classes()[0])), 0.5))\n",
    "focal_loss = CategoricalFocalLoss()\n",
    "total_loss = dice_loss + (1 * focal_loss)\n",
    "iou_score = IOUScore(threshold=0.5)\n",
    "f1_score = FScore(threshold=0.5)"
   ]
  },
  {
   "cell_type": "code",
   "execution_count": null,
   "id": "4236b031",
   "metadata": {},
   "outputs": [],
   "source": [
    "custom_objects = {\n",
    "    \"iou_score\": iou_score,\n",
    "    \"f1-score\": f1_score,\n",
    "    \"dice_loss_plus_1focal_loss\": total_loss\n",
    "}\n",
    "model = load_model(CHECKPOINT_PATH, custom_objects=custom_objects)\n",
    "print(\"Model Loaded\")"
   ]
  },
  {
   "cell_type": "code",
   "execution_count": null,
   "id": "78fea086",
   "metadata": {
    "scrolled": false
   },
   "outputs": [],
   "source": [
    "test_score = model.evaluate_generator(test_dataloader)\n",
    "print(\"Test Loss: \", test_score[0])\n",
    "print(\"Test Mean IoU: \", test_score[1])\n",
    "print(\"Test Mean F1: \", test_score[2])"
   ]
  },
  {
   "cell_type": "code",
   "execution_count": null,
   "id": "4acc92bd",
   "metadata": {},
   "outputs": [],
   "source": [
    "# CamVid Dataset\n",
    "# image, mask = test_dataset[0]\n",
    "# visualize(image=image,\n",
    "#           sky_mask=mask[..., 0].squeeze(),\n",
    "#           car_mask=mask[..., 8].squeeze(),\n",
    "#           pedestrian_mask=mask[..., 9].squeeze(),\n",
    "#           unlabelled_mask=mask[..., 11].squeeze())"
   ]
  },
  {
   "cell_type": "code",
   "execution_count": null,
   "id": "7aadfdd4",
   "metadata": {},
   "outputs": [],
   "source": [
    "# CamVid Dataset\n",
    "# n = 5\n",
    "# ids = np.random.choice(np.arange(len(test_dataset)), size=n)\n",
    "# for i in ids:\n",
    "#     image, gt_mask = test_dataset[i]\n",
    "#     image = np.expand_dims(image, axis=0)\n",
    "#     pr_mask = model.predict(image)\n",
    "#     visualize(\n",
    "#         image=denormalize(image.squeeze()),\n",
    "#         gt_sky_mask=gt_mask[..., 0].squeeze(),\n",
    "#         pr_sky_mask=pr_mask[..., 0].squeeze(),\n",
    "#         gt_car_mask=gt_mask[..., 8].squeeze(),\n",
    "#         pr_car_mask=pr_mask[..., 8].squeeze())"
   ]
  },
  {
   "cell_type": "code",
   "execution_count": null,
   "id": "d5b94e04",
   "metadata": {
    "scrolled": false
   },
   "outputs": [],
   "source": [
    "# FoodSeg103 Dataset\n",
    "image, mask = test_dataset[0]\n",
    "visualize(image=denormalize(image.squeeze()),\n",
    "          shrimp_mask=mask[..., 55].squeeze(),\n",
    "          rice_mask=mask[..., 65].squeeze(),\n",
    "          carrot_mask=mask[..., 83].squeeze(),\n",
    "          french_beans_mask=mask[..., 95].squeeze(),\n",
    "          background_mask=mask[..., 103].squeeze())"
   ]
  },
  {
   "cell_type": "code",
   "execution_count": null,
   "id": "25b21f5f",
   "metadata": {},
   "outputs": [],
   "source": [
    "image, gt_mask = test_dataset[0]\n",
    "image = np.expand_dims(image, axis=0)\n",
    "pr_mask = np.where((model.predict(image)) < THRESHOLD, 0, 1)\n",
    "visualize(\n",
    "    image=denormalize(image.squeeze()),\n",
    "    gt_shrimp_mask=gt_mask[..., 55].squeeze(),\n",
    "    pr_shrimp_mask=pr_mask[..., 55].squeeze(),\n",
    "    gt_rice_mask=gt_mask[..., 65].squeeze(),\n",
    "    pr_rice_mask=pr_mask[..., 65].squeeze())\n",
    "visualize(\n",
    "    image=denormalize(image.squeeze()),\n",
    "    gt_carrot_mask=gt_mask[..., 83].squeeze(),\n",
    "    pr_carrot_mask=pr_mask[..., 83].squeeze(),\n",
    "    gt_french_beans_mask=gt_mask[..., 95].squeeze(),\n",
    "    pr_french_beans_mask=pr_mask[..., 95].squeeze())"
   ]
  },
  {
   "cell_type": "code",
   "execution_count": null,
   "id": "02215fc5",
   "metadata": {
    "scrolled": true
   },
   "outputs": [],
   "source": [
    "gt_img = np.zeros((384, 480))\n",
    "for i in range(len(ids) + 1):\n",
    "    tmp = gt_mask[..., i].squeeze()\n",
    "    gt_img[tmp == 1] = i\n",
    "gt_img = cv2.merge((gt_img, gt_img, gt_img))\n",
    "plt.subplot(1, 2, 1)\n",
    "plt.imshow(gt_img.astype(\"uint8\"))\n",
    "plt.axis(\"off\")\n",
    "\n",
    "pr_class_indices = []\n",
    "pr_img = np.zeros((384, 480))\n",
    "for i in range(len(ids) + 1):\n",
    "    tmp = pr_mask[..., i].squeeze()\n",
    "    if np.count_nonzero(tmp == 1) > 0:\n",
    "        pr_class_indices.append(i)\n",
    "    pr_img[tmp == 1] = i\n",
    "pr_img = cv2.merge((pr_img, pr_img, pr_img))\n",
    "plt.subplot(1, 2, 2)\n",
    "plt.imshow(pr_img.astype(\"uint8\"))\n",
    "plt.axis(\"off\")\n",
    "\n",
    "plt.tight_layout()\n",
    "\n",
    "print(pr_class_indices)"
   ]
  }
 ],
 "metadata": {
  "kernelspec": {
   "display_name": "Python 3 (ipykernel)",
   "language": "python",
   "name": "python3"
  },
  "language_info": {
   "codemirror_mode": {
    "name": "ipython",
    "version": 3
   },
   "file_extension": ".py",
   "mimetype": "text/x-python",
   "name": "python",
   "nbconvert_exporter": "python",
   "pygments_lexer": "ipython3",
   "version": "3.7.10"
  }
 },
 "nbformat": 4,
 "nbformat_minor": 5
}
